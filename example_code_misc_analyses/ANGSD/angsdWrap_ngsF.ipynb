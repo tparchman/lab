{
 "cells": [
  {
   "cell_type": "markdown",
   "metadata": {},
   "source": [
    "# This is brief tutoral on install angsd-wrapper and running ngsF\n",
    "    This uses jahner's bighorn data as an example\n",
    "    Below lines should all be ran in the command line on pronghorn\n",
    "    This is setup to be ran on pronghorn with slurm. Could be modified "
   ]
  },
  {
   "cell_type": "markdown",
   "metadata": {},
   "source": [
    "# Create new conda environment"
   ]
  },
  {
   "cell_type": "code",
   "execution_count": null,
   "metadata": {},
   "outputs": [],
   "source": [
    "conda create -n angsdWrap\n",
    "source activate angsdWrap\n",
    "conda install -c anaconda gcc\n",
    "conda install -c anaconda libgcc\n",
    "conda install -c bioconda samtools"
   ]
  },
  {
   "cell_type": "markdown",
   "metadata": {},
   "source": [
    "# Install angsd-wrapper \n",
    "    https://github.com/ANGSD-wrapper/angsd-wrapper\n",
    "    \n",
    "    This should be done in a src directory in your preffered working directoty\n",
    "    for example: /data/gpfs/assoc/parchmanlab/tfaske/src"
   ]
  },
  {
   "cell_type": "code",
   "execution_count": null,
   "metadata": {},
   "outputs": [],
   "source": [
    "cd /PATH/src\n",
    "\n",
    "source activate angsdWrap\n",
    "git clone https://github.com/mojaveazure/angsd-wrapper.git\n",
    "cd angsd-wrapper/\n",
    "./angsd-wrapper setup dependencies\n",
    "source ~/.bash_profile"
   ]
  },
  {
   "cell_type": "markdown",
   "metadata": {},
   "source": [
    "if you get an gsl error...."
   ]
  },
  {
   "cell_type": "code",
   "execution_count": null,
   "metadata": {},
   "outputs": [],
   "source": [
    "#try to install with conda\n",
    "conda install -c conda-forge gsl"
   ]
  },
  {
   "cell_type": "markdown",
   "metadata": {},
   "source": [
    "if this does not work, add gsl install from source in parchmanlab association to ~/.bashrc"
   ]
  },
  {
   "cell_type": "code",
   "execution_count": null,
   "metadata": {},
   "outputs": [],
   "source": [
    "# add gsl\n",
    "export PATH=\"/data/gpfs/assoc/parchmanlab/src/gsl/bin:$PATH\"\n",
    "\n",
    "# add gsl LD lib path\n",
    "export LD_LIBRARY_PATH=\"/data/gpfs/assoc/parchmanlab/src/gsl/lib:$LD_LIBRARY_PATH\"\n",
    "export CPATH=/data/gpfs/assoc/parchmanlab/src/gsl/include/\n",
    "export LIBRARY_PATH=/data/gpfs/assoc/parchmanlab/src/gsl/lib/"
   ]
  },
  {
   "cell_type": "markdown",
   "metadata": {},
   "source": [
    "After gsl is added to conda or ~/.bashrc, logout and log back in and repeat installation steps"
   ]
  },
  {
   "cell_type": "markdown",
   "metadata": {},
   "source": [
    "# Get necessary example files and additional shell scripts"
   ]
  },
  {
   "cell_type": "code",
   "execution_count": null,
   "metadata": {},
   "outputs": [],
   "source": [
    "cd PATH/src/angsd-wrapper/\n",
    "\n",
    "source activate angsdWrap\n",
    "./angsd-wrapper setup data"
   ]
  },
  {
   "cell_type": "markdown",
   "metadata": {},
   "source": [
    "Get regions extractor shell script, explained later or on website"
   ]
  },
  {
   "cell_type": "code",
   "execution_count": null,
   "metadata": {},
   "outputs": [],
   "source": [
    "cd PATH/src/angsd-wrapper/\n",
    "\n",
    "wget https://gist.githubusercontent.com/mojaveazure/d115bb25eeff3b2df9f9/raw/87d84bcd1a8e9f705d4b3b37639a50f0fd3e8e46/regionsExtracter.sh\n",
    "\n",
    "chmod 755 regionsExtracter.sh"
   ]
  },
  {
   "cell_type": "markdown",
   "metadata": {},
   "source": [
    "# Running ngsF\n",
    "    tutorial through angsd-wrapper: https://github.com/mojaveazure/angsd-wrapper/wiki/Inbreeding-Coefficients\n",
    "    OG: https://github.com/fgvieira/ngsF\n",
    "    \n",
    "    Below code can be ran using jupyter notebooks\n",
    "    \n",
    "    Main directory should have 2 directories: \n",
    "    bam_files -- containing individual bamfiles\n",
    "    assembly -- contains assembly\n",
    "    \n",
    "    The only thing a few things need to be changed in below scripts:\n",
    "    root_dir path, angsdWrap_dir, assembly files name, cpus, and various file names "
   ]
  },
  {
   "cell_type": "code",
   "execution_count": 80,
   "metadata": {},
   "outputs": [
    {
     "name": "stdout",
     "output_type": "stream",
     "text": [
      "/usr/bin/sh: line 0: source: activate: file not found\r\n"
     ]
    }
   ],
   "source": [
    "!source activate py36"
   ]
  },
  {
   "cell_type": "code",
   "execution_count": 81,
   "metadata": {},
   "outputs": [],
   "source": [
    "import sys\n",
    "\n",
    "#sys.path.append('/home/faske/g/anaconda3/envs/py34/lib/python3.4/site-packages')\n",
    "sys.path.append('/data/gpfs/assoc/parchmanlab/tfaske/anaconda3/envs/py36/lib/python3.6/site-packages')\n",
    "sys.path.append(\"/data/gpfs/assoc/parchmanlab/tfaske/ipynb/include_utils\")\n",
    "\n",
    "import ipyparallel as ipp\n",
    "import os, time\n",
    "import include_utils as u\n",
    "import pandas as pd"
   ]
  },
  {
   "cell_type": "code",
   "execution_count": 82,
   "metadata": {},
   "outputs": [],
   "source": [
    "root_dir = '/data/gpfs/home/tfaske/g/jahner/bighorn'"
   ]
  },
  {
   "cell_type": "code",
   "execution_count": 83,
   "metadata": {},
   "outputs": [],
   "source": [
    "bam_dir = os.path.join(root_dir,'bam_files')\n",
    "assembly_dir = os.path.join(root_dir,'assembly')\n",
    "ngsF_dir = os.path.join(root_dir,'ngsF')"
   ]
  },
  {
   "cell_type": "code",
   "execution_count": 84,
   "metadata": {},
   "outputs": [
    {
     "name": "stdout",
     "output_type": "stream",
     "text": [
      "/data/gpfs/assoc/parchmanlab/tfaske/jahner/bighorn\n"
     ]
    }
   ],
   "source": [
    "cd $root_dir"
   ]
  },
  {
   "cell_type": "code",
   "execution_count": 17,
   "metadata": {},
   "outputs": [],
   "source": [
    "!mkdir ngsF"
   ]
  },
  {
   "cell_type": "code",
   "execution_count": 85,
   "metadata": {},
   "outputs": [],
   "source": [
    "!find $bam_dir -name '*.bam' > ngsF/bam_list.txt"
   ]
  },
  {
   "cell_type": "code",
   "execution_count": 86,
   "metadata": {},
   "outputs": [],
   "source": [
    "bam_list = os.path.join(ngsF_dir,'bam_list.txt')"
   ]
  },
  {
   "cell_type": "markdown",
   "metadata": {},
   "source": [
    "# Both assembly and bam files need to be indexed"
   ]
  },
  {
   "cell_type": "markdown",
   "metadata": {},
   "source": [
    "    reindex assembly with samtools (creates .fai file )"
   ]
  },
  {
   "cell_type": "code",
   "execution_count": 87,
   "metadata": {},
   "outputs": [
    {
     "data": {
      "text/plain": [
       "'/data/gpfs/home/tfaske/g/jahner/bighorn/assembly/aries_genome.fa'"
      ]
     },
     "execution_count": 87,
     "metadata": {},
     "output_type": "execute_result"
    }
   ],
   "source": [
    "assembly = os.path.join(assembly_dir,'aries_genome.fa')\n",
    "assembly"
   ]
  },
  {
   "cell_type": "code",
   "execution_count": 88,
   "metadata": {},
   "outputs": [],
   "source": [
    "!samtools faidx $assembly"
   ]
  },
  {
   "cell_type": "markdown",
   "metadata": {},
   "source": [
    "    reindex bam files with samtools as well (creates .bai file )"
   ]
  },
  {
   "cell_type": "code",
   "execution_count": 89,
   "metadata": {},
   "outputs": [
    {
     "data": {
      "text/plain": [
       "(156,\n",
       " '/data/gpfs/home/tfaske/g/jahner/bighorn/bam_files/aln_DB_183_1401.sorted.bam')"
      ]
     },
     "execution_count": 89,
     "metadata": {},
     "output_type": "execute_result"
    }
   ],
   "source": [
    "bam_files = !find $bam_dir -name '*sorted.bam'\n",
    "len(bam_files),bam_files[0]"
   ]
  },
  {
   "cell_type": "code",
   "execution_count": 90,
   "metadata": {},
   "outputs": [],
   "source": [
    "for bam in bam_files:\n",
    "    !samtools index $bam"
   ]
  },
  {
   "cell_type": "code",
   "execution_count": 91,
   "metadata": {},
   "outputs": [],
   "source": [
    "#checks and makes sure all were done\n",
    "bam_index = !find $bam_dir -name '*.bam'\n",
    "assert bam_files == bam_index"
   ]
  },
  {
   "cell_type": "markdown",
   "metadata": {},
   "source": [
    "# Designates contigs / chromosomes / scaffolds of interest for estimation\n",
    "    \n",
    "    If you have a genome, maybe restrict analyses to a set number of largest scaffolds or only chromosomes\n",
    "    Example file should look like\n",
    "    scaffold_1:\n",
    "    scaffold_2:\n",
    "    scaffold_3: \n",
    "    etc……\n",
    "    \n",
    "    For denovo, pick an artibutary number and run regionsExtractor.sh or run on all contigs. \n",
    "    Trimming down will increase computation time and should not change estimates "
   ]
  },
  {
   "cell_type": "markdown",
   "metadata": {},
   "source": [
    "   # Example of how to run regionsExtracter.sh\n",
    "##./regionsExtracter.sh sample_info num_regions [out_directory] [out_name] [ref_gen]"
   ]
  },
  {
   "cell_type": "code",
   "execution_count": 35,
   "metadata": {},
   "outputs": [],
   "source": [
    "angsdWrap_dir = '/data/gpfs/home/tfaske/g/src/angsd-wrapper'\n",
    "regionsExt = os.path.join(angsdWrap_dir,'./regionsExtracter.sh')"
   ]
  },
  {
   "cell_type": "code",
   "execution_count": 36,
   "metadata": {},
   "outputs": [
    {
     "name": "stdout",
     "output_type": "stream",
     "text": [
      "/data/gpfs/assoc/parchmanlab/tfaske/jahner/bighorn/ngsF\n"
     ]
    }
   ],
   "source": [
    "cd $ngsF_dir"
   ]
  },
  {
   "cell_type": "code",
   "execution_count": 39,
   "metadata": {},
   "outputs": [
    {
     "name": "stdout",
     "output_type": "stream",
     "text": [
      "There are 161 BAM files listed in /data/gpfs/home/tfaske/g/jahner/bighorn/ngsF/bam_list.txt\n",
      "Collecting all regions from /data/gpfs/home/tfaske/g/jahner/bighorn/bam_files/aln_DB_44_539.sorted.bam ...\n",
      "Looking at 5466 regions...\n",
      "Selecting 10000 regions:\n",
      "Searching for scaffold_3716 in /data/gpfs/home/tfaske/g/jahner/bighorn/assembly/aries_genome.fa ...\n",
      "Searching for scaffold_2366 in /data/gpfs/home/tfaske/g/jahner/bighorn/assembly/aries_genome.fa ...\n",
      "^C\n"
     ]
    }
   ],
   "source": [
    "contigs = 10000 ## number of randomly sampled contigs\n",
    "!$regionsExt $bam_list $contigs $ngsF_dir extractedRegions.txt $assembly"
   ]
  },
  {
   "cell_type": "markdown",
   "metadata": {},
   "source": [
    "# Example extractedRegions.txt with selected chromosomes"
   ]
  },
  {
   "cell_type": "code",
   "execution_count": 40,
   "metadata": {},
   "outputs": [],
   "source": [
    "extRegions_file = os.path.join(ngsF_dir,'extractedRegions.txt')"
   ]
  },
  {
   "cell_type": "code",
   "execution_count": 43,
   "metadata": {},
   "outputs": [
    {
     "name": "stdout",
     "output_type": "stream",
     "text": [
      "scaffold_1:\r\n",
      "scaffold_2:\r\n",
      "scaffold_3:\r\n",
      "scaffold_4:\r\n",
      "scaffold_5:\r\n",
      "scaffold_6:\r\n",
      "scaffold_7:\r\n",
      "scaffold_8:\r\n",
      "scaffold_9:\r\n",
      "scaffold_10:\r\n"
     ]
    }
   ],
   "source": [
    "!head $extRegions_file"
   ]
  },
  {
   "cell_type": "markdown",
   "metadata": {},
   "source": [
    "# Copy config file to ngsF dir and change settings\n",
    "    confer with https://github.com/mojaveazure/angsd-wrapper/wiki/Inbreeding-Coefficient\n",
    "    \n",
    "    MAKE SURE N_CORES IS THE SAME AS REQUESTED IN SLURM"
   ]
  },
  {
   "cell_type": "code",
   "execution_count": 76,
   "metadata": {},
   "outputs": [],
   "source": [
    "#example \n",
    "config_file = os.path.join(ngsF_dir,'Inbreeding_Coefficients_Config')"
   ]
  },
  {
   "cell_type": "code",
   "execution_count": 77,
   "metadata": {},
   "outputs": [
    {
     "name": "stdout",
     "output_type": "stream",
     "text": [
      "#!/bin/bash\r\n",
      "\r\n",
      "set -e\r\n",
      "set -u\r\n",
      "set -o pipefail\r\n",
      "\r\n",
      "#   A simple script to hold variables for the NGS_F\r\n",
      "#   Are you using the Common_Config file?\r\n",
      "#       If so, where is it?\r\n",
      "COMMON=/data/gpfs/assoc/parchmanlab/tfaske/jahner/bighorn/ngsF\r\n",
      "\r\n",
      "##############################################################################################\r\n",
      "#   If we aren't using the Common_Config file, specify these variables\r\n",
      "#   If Common_Config is specified, leave these blank\r\n",
      "#   Define a list of samples\r\n",
      "SAMPLE_LIST=/data/gpfs/assoc/parchmanlab/tfaske/jahner/bighorn/ngsF/bam_list.txt\r\n",
      "\r\n",
      "#   Ancestral and Reference sequences\r\n",
      "ANC_SEQ=/data/gpfs/assoc/parchmanlab/tfaske/jahner/bighorn/assembly/aries_genome.fa\r\n",
      "REF_SEQ=/data/gpfs/assoc/parchmanlab/tfaske/jahner/bighorn/assembly/aries_genome.fa\r\n",
      "\r\n",
      "#   Name the project\r\n",
      "PROJECT=\r\n",
      "\r\n",
      "#   Where do we put the outfiles?\r\n",
      "    #   Note, the final outdirectory will be\r\n",
      "    #   ${SCRATCH}/${PROJECT}\r\n",
      "SCRATCH=/data/gpfs/assoc/parchmanlab/tfaske/jahner/bighorn/ngsF/\r\n",
      "\r\n",
      "#   Define the region being looked at\r\n",
      "#       Optional, but ANGSD is expensive to run without specifying regions to look at\r\n",
      "REGIONS=/data/gpfs/assoc/parchmanlab/tfaske/jahner/bighorn/ngsF/extractedRegions.txt\r\n",
      "\r\n",
      "#   Parameters that are specified in Common_Config\r\n",
      "#       Set the minimum base quality\r\n",
      "MIN_BASEQUAL=20\r\n",
      "#       Calculate genotype likelihoods\r\n",
      "GT_LIKELIHOOD=1\r\n",
      "#       Set the minimum mapping quality for a base to be used\r\n",
      "MIN_MAPQ=30\r\n",
      "#       Set the number of cpus to use (MAKE SURE MATCHES SLURM)\r\n",
      "N_CORES=32\r\n",
      "#       Determine major and minor alleles\r\n",
      "DO_MAJORMINOR=1\r\n",
      "#       Calculate allele frequencies\r\n",
      "DO_MAF=1\r\n",
      "\r\n",
      "##############################################################################################\r\n",
      "\r\n",
      "#   ngsF Parameters\r\n",
      "#       Listed below are the defaults, please modify for your samples\r\n",
      "#       Set the maximum p-value for polymorphic sites\r\n",
      "SNP_PVAL=1e-9\r\n",
      "#       Overwrite any previously generated results\r\n",
      "OVERRIDE=false\r\n",
      "#       Set the minimum root-mean-square deviation between to assume convergence\r\n",
      "MIN_EPSILON=1e-9\r\n",
      "#       Output genotype likelihood frequency file\r\n",
      "DO_GLF=3\r\n",
      "#       Set a seed value for creating approximate inbreeding coefficients\r\n",
      "#       Use the random number generator built into BASH\r\n",
      "SEED=$RANDOM\r\n"
     ]
    }
   ],
   "source": [
    "!cat $config_file"
   ]
  },
  {
   "cell_type": "markdown",
   "metadata": {},
   "source": [
    "# Run ngsF with slurm!\n",
    "\n",
    "    the below code with make a slurm script for you\n",
    "    \n",
    "    I recommend running it first through the command line and then kill it just to check if it works! \n",
    "    \n",
    "    cd PATH/ngsF\n",
    "    source activate angsdWrap\n",
    "    angsd-wrapper Inbreeding Inbreeding_Coefficients_Config"
   ]
  },
  {
   "cell_type": "markdown",
   "metadata": {},
   "source": [
    "Things you should need to change:\n",
    "root_dir, angsdWrap, cpus, email, account, part "
   ]
  },
  {
   "cell_type": "code",
   "execution_count": 92,
   "metadata": {},
   "outputs": [],
   "source": [
    "root_dir = '/data/gpfs/home/tfaske/g/jahner/bighorn'\n",
    "angsdWrap = '/data/gpfs/assoc/parchmanlab/tfaske/src/angsd-wrapper/./angsd-wrapper' #MAKE SURE YOU USE FULL PATH (no symbolic links)\n",
    "ntasks = 2\n",
    "cpus = 32\n",
    "email = 'tfaske@nevada.unr.edu'\n",
    "account = 'cpu-s3-sponsored-0'\n",
    "part = 'cpu-s3-sponsored-0'"
   ]
  },
  {
   "cell_type": "code",
   "execution_count": 93,
   "metadata": {},
   "outputs": [],
   "source": [
    "ngsF_dir = os.path.join(root_dir,'ngsF')\n",
    "config_file = os.path.join(ngsF_dir,'Inbreeding_Coefficients_Config')"
   ]
  },
  {
   "cell_type": "code",
   "execution_count": 94,
   "metadata": {},
   "outputs": [
    {
     "name": "stdout",
     "output_type": "stream",
     "text": [
      "/data/gpfs/assoc/parchmanlab/tfaske/jahner/bighorn/ngsF\n"
     ]
    }
   ],
   "source": [
    "cd $ngsF_dir"
   ]
  },
  {
   "cell_type": "code",
   "execution_count": 97,
   "metadata": {},
   "outputs": [],
   "source": [
    "def write_ngsF_sh(account,part,ntasks,cpus,email,ngsF_dir,angsdWrap,config_file):\n",
    "    with open(\"run_ngsF.sh\", \"w\") as o:\n",
    "        o.write(\"\"\"#!/usr/bin/env bash\n",
    "#SBATCH --account=%s\n",
    "#SBATCH --partition=%s\n",
    "#SBATCH --ntasks %d\n",
    "#SBATCH --cpus-per-task %d\n",
    "#SBATCH --job-name ngsF\n",
    "#SBATCH --output output_ngsF.txt\n",
    "#SBATCH --mail-type=BEGIN,END\n",
    "#SBATCH --mail-user=%s\n",
    "\n",
    "## change into the ngsF directory\n",
    "cd %s \\n\\n\"\"\" % (account,part,ntasks,cpus,email,ngsF_dir))\n",
    "\n",
    "        #angsd-wrapper Inbreeding Inbreeding_Coefficients_Config\n",
    "        o.write(\"\"\"%s Inbreeding %s\"\"\"% (angsdWrap,config_file))"
   ]
  },
  {
   "cell_type": "code",
   "execution_count": 98,
   "metadata": {},
   "outputs": [],
   "source": [
    "write_ngsF_sh(account,part,ntasks,cpus,email,ngsF_dir,angsdWrap,config_file)"
   ]
  },
  {
   "cell_type": "markdown",
   "metadata": {},
   "source": [
    "# run in command line \n",
    "    cd PATH/ngsF\n",
    "    source activate angsdWrap\n",
    "    sbatch run_ngsF.sh"
   ]
  },
  {
   "cell_type": "code",
   "execution_count": null,
   "metadata": {},
   "outputs": [],
   "source": []
  }
 ],
 "metadata": {
  "kernelspec": {
   "display_name": "Python 3",
   "language": "python",
   "name": "python3"
  },
  "language_info": {
   "codemirror_mode": {
    "name": "ipython",
    "version": 3
   },
   "file_extension": ".py",
   "mimetype": "text/x-python",
   "name": "python",
   "nbconvert_exporter": "python",
   "pygments_lexer": "ipython3",
   "version": "3.6.9"
  }
 },
 "nbformat": 4,
 "nbformat_minor": 1
}
