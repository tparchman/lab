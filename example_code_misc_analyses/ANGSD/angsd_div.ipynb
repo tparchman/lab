{
 "cells": [
  {
   "cell_type": "code",
   "execution_count": 2,
   "metadata": {},
   "outputs": [],
   "source": [
    "!source activate py36"
   ]
  },
  {
   "cell_type": "code",
   "execution_count": 3,
   "metadata": {},
   "outputs": [],
   "source": [
    "import sys\n",
    "\n",
    "sys.path.append('/home/faske/g/anaconda3/envs/py36/lib/python3.6/site-packages')\n",
    "sys.path.append(\"/home/faske/g/ipynb/include_utils\")\n",
    "\n",
    "import math\n",
    "import ipyparallel as ipp\n",
    "import os, time\n",
    "import include_utils as u\n",
    "import pandas as pd\n",
    "import numpy as np\n",
    "import scipy as sp\n",
    "import numbers\n",
    "import matplotlib.pyplot as plt\n",
    "import matplotlib.patches as mpatches\n",
    "import matplotlib.cm as cm\n",
    "import matplotlib.colors as mcolors\n",
    "#import vcf\n",
    "from sklearn import preprocessing\n",
    "from subprocess import Popen, PIPE, call, check_output\n",
    "import seaborn as sns\n",
    "from IPython.display import FileLink\n",
    "import urllib.request as urllib2\n",
    "import dill\n",
    "import traceback\n",
    "from pandas import Series, DataFrame\n",
    "import gzip\n",
    "import warnings\n",
    "warnings.filterwarnings('ignore',category=pd.io.pytables.PerformanceWarning)\n",
    "%config InlineBackend.figure_format = 'retina'\n",
    "from Bio import SeqIO\n",
    "#import pysam\n",
    "from collections import OrderedDict, namedtuple, Counter\n",
    "import operator\n",
    "import multiprocessing as mp\n",
    "import shutil\n",
    "import tempfile\n",
    "#from ipyparallel import Client\n",
    "import scandir\n",
    "import glob\n",
    "from Bio.SeqIO.QualityIO import FastqGeneralIterator\n",
    "import pickle\n",
    "#import Levenshtein as lv"
   ]
  },
  {
   "cell_type": "code",
   "execution_count": 4,
   "metadata": {},
   "outputs": [],
   "source": [
    "analysis_dir = '/home/faske/g/rabbit/subset/angsd'"
   ]
  },
  {
   "cell_type": "code",
   "execution_count": 5,
   "metadata": {},
   "outputs": [
    {
     "name": "stdout",
     "output_type": "stream",
     "text": [
      "/working/tfaske/rabbit/subset/angsd\n"
     ]
    }
   ],
   "source": [
    "cd $analysis_dir"
   ]
  },
  {
   "cell_type": "markdown",
   "metadata": {},
   "source": [
    "# Calculating nt diversity (pi) \n",
    "must split vcf by each population"
   ]
  },
  {
   "cell_type": "code",
   "execution_count": 6,
   "metadata": {},
   "outputs": [
    {
     "data": {
      "text/html": [
       "<div>\n",
       "<style scoped>\n",
       "    .dataframe tbody tr th:only-of-type {\n",
       "        vertical-align: middle;\n",
       "    }\n",
       "\n",
       "    .dataframe tbody tr th {\n",
       "        vertical-align: top;\n",
       "    }\n",
       "\n",
       "    .dataframe thead th {\n",
       "        text-align: right;\n",
       "    }\n",
       "</style>\n",
       "<table border=\"1\" class=\"dataframe\">\n",
       "  <thead>\n",
       "    <tr style=\"text-align: right;\">\n",
       "      <th></th>\n",
       "      <th>Pop</th>\n",
       "      <th>ID</th>\n",
       "      <th>Name</th>\n",
       "      <th>Lat</th>\n",
       "      <th>Long</th>\n",
       "      <th>State</th>\n",
       "      <th>Species</th>\n",
       "      <th>Variety</th>\n",
       "      <th>Color</th>\n",
       "      <th>Notes</th>\n",
       "    </tr>\n",
       "  </thead>\n",
       "  <tbody>\n",
       "    <tr>\n",
       "      <th>0</th>\n",
       "      <td>AS</td>\n",
       "      <td>16</td>\n",
       "      <td>Austin Summit</td>\n",
       "      <td>39.473104</td>\n",
       "      <td>117.049449</td>\n",
       "      <td>NV</td>\n",
       "      <td>NaN</td>\n",
       "      <td>hololeucus</td>\n",
       "      <td>gray</td>\n",
       "      <td>NaN</td>\n",
       "    </tr>\n",
       "    <tr>\n",
       "      <th>1</th>\n",
       "      <td>AS</td>\n",
       "      <td>17</td>\n",
       "      <td>Austin Summit</td>\n",
       "      <td>39.473104</td>\n",
       "      <td>117.049449</td>\n",
       "      <td>NV</td>\n",
       "      <td>NaN</td>\n",
       "      <td>hololeucus</td>\n",
       "      <td>gray</td>\n",
       "      <td>NaN</td>\n",
       "    </tr>\n",
       "    <tr>\n",
       "      <th>2</th>\n",
       "      <td>AS</td>\n",
       "      <td>18</td>\n",
       "      <td>Austin Summit</td>\n",
       "      <td>39.473104</td>\n",
       "      <td>117.049449</td>\n",
       "      <td>NV</td>\n",
       "      <td>NaN</td>\n",
       "      <td>hololeucus</td>\n",
       "      <td>gray</td>\n",
       "      <td>NaN</td>\n",
       "    </tr>\n",
       "    <tr>\n",
       "      <th>3</th>\n",
       "      <td>AS</td>\n",
       "      <td>19</td>\n",
       "      <td>Austin Summit</td>\n",
       "      <td>39.473104</td>\n",
       "      <td>117.049449</td>\n",
       "      <td>NV</td>\n",
       "      <td>NaN</td>\n",
       "      <td>hololeucus</td>\n",
       "      <td>gray</td>\n",
       "      <td>NaN</td>\n",
       "    </tr>\n",
       "    <tr>\n",
       "      <th>4</th>\n",
       "      <td>AS</td>\n",
       "      <td>20</td>\n",
       "      <td>Austin Summit</td>\n",
       "      <td>39.473104</td>\n",
       "      <td>117.049449</td>\n",
       "      <td>NV</td>\n",
       "      <td>NaN</td>\n",
       "      <td>hololeucus</td>\n",
       "      <td>gray</td>\n",
       "      <td>NaN</td>\n",
       "    </tr>\n",
       "  </tbody>\n",
       "</table>\n",
       "</div>"
      ],
      "text/plain": [
       "  Pop  ID           Name        Lat        Long State  Species     Variety  \\\n",
       "0  AS  16  Austin Summit  39.473104  117.049449    NV      NaN  hololeucus   \n",
       "1  AS  17  Austin Summit  39.473104  117.049449    NV      NaN  hololeucus   \n",
       "2  AS  18  Austin Summit  39.473104  117.049449    NV      NaN  hololeucus   \n",
       "3  AS  19  Austin Summit  39.473104  117.049449    NV      NaN  hololeucus   \n",
       "4  AS  20  Austin Summit  39.473104  117.049449    NV      NaN  hololeucus   \n",
       "\n",
       "  Color Notes  \n",
       "0  gray   NaN  \n",
       "1  gray   NaN  \n",
       "2  gray   NaN  \n",
       "3  gray   NaN  \n",
       "4  gray   NaN  "
      ]
     },
     "execution_count": 6,
     "metadata": {},
     "output_type": "execute_result"
    }
   ],
   "source": [
    "Pop_ID_df = pd.read_csv(os.path.join(analysis_dir, \"Pop_ID_Loc_Var.csv\"), sep=\",\")\n",
    "Pop_ID_df.head()"
   ]
  },
  {
   "cell_type": "code",
   "execution_count": 7,
   "metadata": {},
   "outputs": [
    {
     "data": {
      "text/html": [
       "<div>\n",
       "<style scoped>\n",
       "    .dataframe tbody tr th:only-of-type {\n",
       "        vertical-align: middle;\n",
       "    }\n",
       "\n",
       "    .dataframe tbody tr th {\n",
       "        vertical-align: top;\n",
       "    }\n",
       "\n",
       "    .dataframe thead th {\n",
       "        text-align: right;\n",
       "    }\n",
       "</style>\n",
       "<table border=\"1\" class=\"dataframe\">\n",
       "  <thead>\n",
       "    <tr style=\"text-align: right;\">\n",
       "      <th></th>\n",
       "      <th>Pop</th>\n",
       "      <th>ID</th>\n",
       "      <th>Name</th>\n",
       "      <th>Lat</th>\n",
       "      <th>Long</th>\n",
       "      <th>State</th>\n",
       "      <th>Species</th>\n",
       "      <th>Variety</th>\n",
       "      <th>Color</th>\n",
       "      <th>Notes</th>\n",
       "      <th>Bam</th>\n",
       "    </tr>\n",
       "  </thead>\n",
       "  <tbody>\n",
       "    <tr>\n",
       "      <th>0</th>\n",
       "      <td>AS</td>\n",
       "      <td>16</td>\n",
       "      <td>Austin Summit</td>\n",
       "      <td>39.473104</td>\n",
       "      <td>117.049449</td>\n",
       "      <td>NV</td>\n",
       "      <td>NaN</td>\n",
       "      <td>hololeucus</td>\n",
       "      <td>gray</td>\n",
       "      <td>NaN</td>\n",
       "      <td>/home/faske/g/rabbit/subset/bowtie2/EN_AS_16.f...</td>\n",
       "    </tr>\n",
       "    <tr>\n",
       "      <th>1</th>\n",
       "      <td>AS</td>\n",
       "      <td>17</td>\n",
       "      <td>Austin Summit</td>\n",
       "      <td>39.473104</td>\n",
       "      <td>117.049449</td>\n",
       "      <td>NV</td>\n",
       "      <td>NaN</td>\n",
       "      <td>hololeucus</td>\n",
       "      <td>gray</td>\n",
       "      <td>NaN</td>\n",
       "      <td>/home/faske/g/rabbit/subset/bowtie2/EN_AS_17.f...</td>\n",
       "    </tr>\n",
       "    <tr>\n",
       "      <th>2</th>\n",
       "      <td>AS</td>\n",
       "      <td>18</td>\n",
       "      <td>Austin Summit</td>\n",
       "      <td>39.473104</td>\n",
       "      <td>117.049449</td>\n",
       "      <td>NV</td>\n",
       "      <td>NaN</td>\n",
       "      <td>hololeucus</td>\n",
       "      <td>gray</td>\n",
       "      <td>NaN</td>\n",
       "      <td>/home/faske/g/rabbit/subset/bowtie2/EN_AS_18.f...</td>\n",
       "    </tr>\n",
       "    <tr>\n",
       "      <th>3</th>\n",
       "      <td>AS</td>\n",
       "      <td>19</td>\n",
       "      <td>Austin Summit</td>\n",
       "      <td>39.473104</td>\n",
       "      <td>117.049449</td>\n",
       "      <td>NV</td>\n",
       "      <td>NaN</td>\n",
       "      <td>hololeucus</td>\n",
       "      <td>gray</td>\n",
       "      <td>NaN</td>\n",
       "      <td>/home/faske/g/rabbit/subset/bowtie2/EN_AS_19.f...</td>\n",
       "    </tr>\n",
       "    <tr>\n",
       "      <th>4</th>\n",
       "      <td>AS</td>\n",
       "      <td>20</td>\n",
       "      <td>Austin Summit</td>\n",
       "      <td>39.473104</td>\n",
       "      <td>117.049449</td>\n",
       "      <td>NV</td>\n",
       "      <td>NaN</td>\n",
       "      <td>hololeucus</td>\n",
       "      <td>gray</td>\n",
       "      <td>NaN</td>\n",
       "      <td>/home/faske/g/rabbit/subset/bowtie2/EN_AS_20.f...</td>\n",
       "    </tr>\n",
       "  </tbody>\n",
       "</table>\n",
       "</div>"
      ],
      "text/plain": [
       "  Pop  ID           Name        Lat        Long State  Species     Variety  \\\n",
       "0  AS  16  Austin Summit  39.473104  117.049449    NV      NaN  hololeucus   \n",
       "1  AS  17  Austin Summit  39.473104  117.049449    NV      NaN  hololeucus   \n",
       "2  AS  18  Austin Summit  39.473104  117.049449    NV      NaN  hololeucus   \n",
       "3  AS  19  Austin Summit  39.473104  117.049449    NV      NaN  hololeucus   \n",
       "4  AS  20  Austin Summit  39.473104  117.049449    NV      NaN  hololeucus   \n",
       "\n",
       "  Color Notes                                                Bam  \n",
       "0  gray   NaN  /home/faske/g/rabbit/subset/bowtie2/EN_AS_16.f...  \n",
       "1  gray   NaN  /home/faske/g/rabbit/subset/bowtie2/EN_AS_17.f...  \n",
       "2  gray   NaN  /home/faske/g/rabbit/subset/bowtie2/EN_AS_18.f...  \n",
       "3  gray   NaN  /home/faske/g/rabbit/subset/bowtie2/EN_AS_19.f...  \n",
       "4  gray   NaN  /home/faske/g/rabbit/subset/bowtie2/EN_AS_20.f...  "
      ]
     },
     "execution_count": 7,
     "metadata": {},
     "output_type": "execute_result"
    }
   ],
   "source": [
    "Bam = []\n",
    "for i in range(0,len(Pop_ID_df)):\n",
    "    name = [\"/home/faske/g/rabbit/subset/bowtie2/EN_\",Pop_ID_df.Pop.loc[i],\"_\",str(Pop_ID_df.ID.loc[i]),\".fastq.gz_sorted.bam\"]\n",
    "    #print(name)\n",
    "    Bam.append(\"\".join(name))\n",
    "Pop_ID_df['Bam'] = Bam\n",
    "Pop_ID_df.head()\n",
    "#print(len(Bam),len(Pop_ID_df))"
   ]
  },
  {
   "cell_type": "code",
   "execution_count": 8,
   "metadata": {},
   "outputs": [
    {
     "name": "stderr",
     "output_type": "stream",
     "text": [
      "/home/faske/g/anaconda3/envs/py36/lib/python3.6/site-packages/ipykernel_launcher.py:8: FutureWarning: The signature of `Series.to_csv` was aligned to that of `DataFrame.to_csv`, and argument 'path' will be renamed to 'path_or_buf'.\n",
      "  \n"
     ]
    }
   ],
   "source": [
    "pops = Pop_ID_df.Pop.unique()\n",
    "for i in range(0,len(pops)):\n",
    "    pop = str(pops[i])\n",
    "    names = Pop_ID_df[(Pop_ID_df.Pop == pop)].Bam\n",
    "    #print(names)\n",
    "    pop_file = analysis_dir + \"/\"+ pop + \"_bam_name.txt\"\n",
    "    #print(pop_file)\n",
    "    names.to_csv(path=pop_file,sep='\\n',header=False,index=False)"
   ]
  },
  {
   "cell_type": "markdown",
   "metadata": {},
   "source": [
    "# Get sfs.idx #"
   ]
  },
  {
   "cell_type": "code",
   "execution_count": 9,
   "metadata": {},
   "outputs": [],
   "source": [
    "!source activate py34"
   ]
  },
  {
   "cell_type": "code",
   "execution_count": 10,
   "metadata": {},
   "outputs": [
    {
     "data": {
      "text/plain": [
       "'/working/tfaske/rabbit/subset/angsd'"
      ]
     },
     "execution_count": 10,
     "metadata": {},
     "output_type": "execute_result"
    }
   ],
   "source": [
    "pwd"
   ]
  },
  {
   "cell_type": "code",
   "execution_count": 11,
   "metadata": {},
   "outputs": [],
   "source": [
    "assembly = '/home/faske/g/rabbit/assembly/bowtie_6680/reference.fasta'"
   ]
  },
  {
   "cell_type": "code",
   "execution_count": null,
   "metadata": {},
   "outputs": [],
   "source": [
    "pops = Pop_ID_df.Pop.unique()\n",
    "for i in range(0,len(pops)):\n",
    "    pop = str(pops[i])\n",
    "    bam_file = !ls {analysis_dir}/{pop}_bam_name.txt\n",
    "    !angsd -bam $bam_file -doSaf 1 -anc $assembly -GL 1 -P 6 -out $pop &"
   ]
  },
  {
   "cell_type": "code",
   "execution_count": 18,
   "metadata": {},
   "outputs": [],
   "source": [
    "with open(\"./run_angsd.sh\", \"w\") as o:\n",
    "    o.write(\"\"\"#!/bin/bash\n",
    "#$ -S /bin/bash\n",
    "#$ -cwd\n",
    "source activate py34\\n\"\"\")\n",
    "    pops = Pop_ID_df.Pop.unique()\n",
    "    ncores = 6\n",
    "    for i in range(0,len(pops)):\n",
    "        pop = str(pops[i])\n",
    "        bam_file = os.path.join(analysis_dir,''.join([pop,'_bam_name.txt']))\n",
    "        o.write(\"angsd -bam %s -doSaf 1 -anc %s -GL 1 -P %s -out %s & \\ndisown -h\\n\\n\" % (bam_file,assembly,ncores,pop))\n",
    "        \n",
    "      "
   ]
  },
  {
   "cell_type": "markdown",
   "metadata": {},
   "source": [
    "# in terminal #\n",
    "cd /home/faske/g/rabbit/subset/angsd </br>\n",
    "bash run_angsd.sh > angsd.out & </br>\n",
    "disown -h</br>"
   ]
  },
  {
   "cell_type": "markdown",
   "metadata": {},
   "source": [
    "# Make real sfs"
   ]
  },
  {
   "cell_type": "code",
   "execution_count": 8,
   "metadata": {},
   "outputs": [],
   "source": [
    "Pop_ID_df = pd.read_csv(os.path.join(analysis_dir, \"Pop_ID_Loc_Var.csv\"), sep=\",\")"
   ]
  },
  {
   "cell_type": "code",
   "execution_count": 10,
   "metadata": {},
   "outputs": [],
   "source": [
    "with open(\"./run_realSFS.sh\", \"w\") as o:\n",
    "    o.write(\"\"\"#!/bin/bash\n",
    "#$ -S /bin/bash\n",
    "#$ -cwd\n",
    "source activate py34\\n\"\"\")\n",
    "    pops = Pop_ID_df.Pop.unique()\n",
    "    ncores = 6\n",
    "    for i in range(0,len(pops)):\n",
    "        pop = str(pops[i])\n",
    "        o.write(\"realSFS %s.saf.idx -P %s > %s.sfs & \\ndisown -h\\n\\n\" % (pop,ncores,pop))\n",
    "        \n",
    "#cd /home/faske/g/rabbit/subset/angsd \n",
    "#bash run_realSFS.sh > realSFS.out & disown -h     "
   ]
  },
  {
   "cell_type": "markdown",
   "metadata": {},
   "source": [
    "# do theta"
   ]
  },
  {
   "cell_type": "code",
   "execution_count": 11,
   "metadata": {},
   "outputs": [],
   "source": [
    "Pop_ID_df = pd.read_csv(os.path.join(analysis_dir, \"Pop_ID_Loc_Var.csv\"), sep=\",\")"
   ]
  },
  {
   "cell_type": "code",
   "execution_count": 12,
   "metadata": {},
   "outputs": [],
   "source": [
    "assembly = '/home/faske/g/rabbit/assembly/bowtie_6680/reference.fasta'"
   ]
  },
  {
   "cell_type": "code",
   "execution_count": 14,
   "metadata": {},
   "outputs": [],
   "source": [
    "with open(\"./run_doTheta.sh\", \"w\") as o:\n",
    "    o.write(\"\"\"#!/bin/bash\n",
    "#$ -S /bin/bash\n",
    "#$ -cwd\n",
    "source activate py34\\n\"\"\")\n",
    "    pops = Pop_ID_df.Pop.unique()\n",
    "    for i in range(0,len(pops)):\n",
    "        pop = str(pops[i])\n",
    "        o.write(\"angsd -bam %s_bam_name.txt -out %s -doThetas 1 -doSaf 1 -pest %s.sfs -anc %s -GL 1 & \\ndisown -h\\n\\n\" % (pop,pop,pop,assembly))\n",
    "        \n",
    "#cd /home/faske/g/rabbit/subset/angsd \n",
    "#bash run_doTheta.sh > doTheta.out & disown -h \n"
   ]
  },
  {
   "cell_type": "markdown",
   "metadata": {},
   "source": [
    "# do stat"
   ]
  },
  {
   "cell_type": "code",
   "execution_count": 12,
   "metadata": {},
   "outputs": [],
   "source": [
    "with open(\"./run_doStat.sh\", \"w\") as o:\n",
    "    o.write(\"\"\"#!/bin/bash\n",
    "#$ -S /bin/bash\n",
    "#$ -cwd\n",
    "source activate py34\\n\"\"\")\n",
    "    pops = Pop_ID_df.Pop.unique()\n",
    "    for i in range(0,len(pops)):\n",
    "        pop = str(pops[i])\n",
    "        o.write(\"thetaStat do_stat %s.thetas.idx -win 1 -step 1 & \\ndisown -h\\n\\n\" % (pop))\n",
    "        \n",
    "#cd /home/faske/g/rabbit/subset/angsd \n",
    "#bash run_doStat.sh > doStat.out & \n",
    "#disown -h \n"
   ]
  },
  {
   "cell_type": "markdown",
   "metadata": {},
   "source": [
    "# theta_out"
   ]
  },
  {
   "cell_type": "code",
   "execution_count": 16,
   "metadata": {},
   "outputs": [],
   "source": [
    "with open(\"./run_thetaOut.sh\", \"w\") as o:\n",
    "    o.write(\"\"\"#!/bin/bash\n",
    "#$ -S /bin/bash\n",
    "#$ -cwd\n",
    "source activate py34\\n\"\"\")\n",
    "    pops = Pop_ID_df.Pop.unique()\n",
    "    for i in range(0,len(pops)):\n",
    "        pop = str(pops[i])\n",
    "        o.write(\"thetaStat print %s.thetas.idx > %s.theta_out & \\ndisown -h\\n\\n\" % (pop,pop))\n",
    "        \n",
    "#cd /home/faske/g/rabbit/subset/angsd \n",
    "#bash run_thetaOut.sh > thetaOut.out & disown -h \n"
   ]
  },
  {
   "cell_type": "markdown",
   "metadata": {},
   "source": [
    "# OLD PI with VCF"
   ]
  },
  {
   "cell_type": "code",
   "execution_count": 10,
   "metadata": {},
   "outputs": [],
   "source": [
    "def get_pi(filedir, prefix):\n",
    "    pi_file = !ls {filedir}/{prefix}.sites.pi\n",
    "    pi_df = pd.read_csv(pi_file[0], sep=\"\\t\")\n",
    "    pi = pi_df.PI.mean()\n",
    "    #print(pi)\n",
    "    return pi"
   ]
  },
  {
   "cell_type": "code",
   "execution_count": 11,
   "metadata": {},
   "outputs": [
    {
     "data": {
      "text/html": [
       "<div>\n",
       "<style scoped>\n",
       "    .dataframe tbody tr th:only-of-type {\n",
       "        vertical-align: middle;\n",
       "    }\n",
       "\n",
       "    .dataframe tbody tr th {\n",
       "        vertical-align: top;\n",
       "    }\n",
       "\n",
       "    .dataframe thead th {\n",
       "        text-align: right;\n",
       "    }\n",
       "</style>\n",
       "<table border=\"1\" class=\"dataframe\">\n",
       "  <thead>\n",
       "    <tr style=\"text-align: right;\">\n",
       "      <th></th>\n",
       "      <th>Pop</th>\n",
       "      <th>pi</th>\n",
       "    </tr>\n",
       "  </thead>\n",
       "  <tbody>\n",
       "    <tr>\n",
       "      <th>0</th>\n",
       "      <td>AS</td>\n",
       "      <td>0.264486</td>\n",
       "    </tr>\n",
       "    <tr>\n",
       "      <th>1</th>\n",
       "      <td>BM</td>\n",
       "      <td>0.278885</td>\n",
       "    </tr>\n",
       "    <tr>\n",
       "      <th>2</th>\n",
       "      <td>BV</td>\n",
       "      <td>0.277280</td>\n",
       "    </tr>\n",
       "    <tr>\n",
       "      <th>3</th>\n",
       "      <td>DC</td>\n",
       "      <td>0.272952</td>\n",
       "    </tr>\n",
       "    <tr>\n",
       "      <th>4</th>\n",
       "      <td>DH</td>\n",
       "      <td>0.275095</td>\n",
       "    </tr>\n",
       "  </tbody>\n",
       "</table>\n",
       "</div>"
      ],
      "text/plain": [
       "  Pop        pi\n",
       "0  AS  0.264486\n",
       "1  BM  0.278885\n",
       "2  BV  0.277280\n",
       "3  DC  0.272952\n",
       "4  DH  0.275095"
      ]
     },
     "execution_count": 11,
     "metadata": {},
     "output_type": "execute_result"
    }
   ],
   "source": [
    "pi_array=[]\n",
    "pops = Pop_ID_df.Pop.unique()\n",
    "for i in range(0,len(pops)):\n",
    "    pop = pops[i]\n",
    "    pi = get_pi(analysis_dir,pop)\n",
    "    pi_array.append(pi)\n",
    "pop_pi = {'Pop':pops,'pi':pi_array}\n",
    "pop_pi_df = pd.DataFrame(pop_pi)\n",
    "pop_pi_df.head()"
   ]
  },
  {
   "cell_type": "code",
   "execution_count": 12,
   "metadata": {},
   "outputs": [],
   "source": [
    "pop_pi_file = os.path.join(analysis_dir,'pop_pi.csv')\n",
    "pop_pi_df.to_csv(path_or_buf=pop_pi_file,index=False)"
   ]
  },
  {
   "cell_type": "markdown",
   "metadata": {
    "collapsed": true
   },
   "source": [
    "# test"
   ]
  },
  {
   "cell_type": "code",
   "execution_count": 19,
   "metadata": {},
   "outputs": [],
   "source": [
    "SS_theta = pd.read_csv(os.path.join(analysis_dir, \"SS.theta_out\"), sep=\"\\t\")"
   ]
  },
  {
   "cell_type": "code",
   "execution_count": 20,
   "metadata": {},
   "outputs": [
    {
     "data": {
      "text/html": [
       "<div>\n",
       "<style scoped>\n",
       "    .dataframe tbody tr th:only-of-type {\n",
       "        vertical-align: middle;\n",
       "    }\n",
       "\n",
       "    .dataframe tbody tr th {\n",
       "        vertical-align: top;\n",
       "    }\n",
       "\n",
       "    .dataframe thead th {\n",
       "        text-align: right;\n",
       "    }\n",
       "</style>\n",
       "<table border=\"1\" class=\"dataframe\">\n",
       "  <thead>\n",
       "    <tr style=\"text-align: right;\">\n",
       "      <th></th>\n",
       "      <th>#Chromo</th>\n",
       "      <th>Pos</th>\n",
       "      <th>Watterson</th>\n",
       "      <th>Pairwise</th>\n",
       "      <th>thetaSingleton</th>\n",
       "      <th>thetaH</th>\n",
       "      <th>thetaL</th>\n",
       "    </tr>\n",
       "  </thead>\n",
       "  <tbody>\n",
       "    <tr>\n",
       "      <th>0</th>\n",
       "      <td>dDocent_Contig_6</td>\n",
       "      <td>2</td>\n",
       "      <td>-inf</td>\n",
       "      <td>-72.711815</td>\n",
       "      <td>-102.585783</td>\n",
       "      <td>-74.791252</td>\n",
       "      <td>-73.287178</td>\n",
       "    </tr>\n",
       "    <tr>\n",
       "      <th>1</th>\n",
       "      <td>dDocent_Contig_6</td>\n",
       "      <td>3</td>\n",
       "      <td>-inf</td>\n",
       "      <td>-72.103607</td>\n",
       "      <td>-103.278930</td>\n",
       "      <td>-74.183044</td>\n",
       "      <td>-72.678970</td>\n",
       "    </tr>\n",
       "    <tr>\n",
       "      <th>2</th>\n",
       "      <td>dDocent_Contig_6</td>\n",
       "      <td>4</td>\n",
       "      <td>-inf</td>\n",
       "      <td>-71.733322</td>\n",
       "      <td>-103.278930</td>\n",
       "      <td>-73.812759</td>\n",
       "      <td>-72.308685</td>\n",
       "    </tr>\n",
       "    <tr>\n",
       "      <th>3</th>\n",
       "      <td>dDocent_Contig_6</td>\n",
       "      <td>5</td>\n",
       "      <td>-inf</td>\n",
       "      <td>-72.286049</td>\n",
       "      <td>-103.278930</td>\n",
       "      <td>-74.365486</td>\n",
       "      <td>-72.861412</td>\n",
       "    </tr>\n",
       "    <tr>\n",
       "      <th>4</th>\n",
       "      <td>dDocent_Contig_6</td>\n",
       "      <td>6</td>\n",
       "      <td>-inf</td>\n",
       "      <td>-72.545708</td>\n",
       "      <td>-103.278930</td>\n",
       "      <td>-74.625145</td>\n",
       "      <td>-73.121071</td>\n",
       "    </tr>\n",
       "  </tbody>\n",
       "</table>\n",
       "</div>"
      ],
      "text/plain": [
       "            #Chromo  Pos  Watterson   Pairwise  thetaSingleton     thetaH  \\\n",
       "0  dDocent_Contig_6    2       -inf -72.711815     -102.585783 -74.791252   \n",
       "1  dDocent_Contig_6    3       -inf -72.103607     -103.278930 -74.183044   \n",
       "2  dDocent_Contig_6    4       -inf -71.733322     -103.278930 -73.812759   \n",
       "3  dDocent_Contig_6    5       -inf -72.286049     -103.278930 -74.365486   \n",
       "4  dDocent_Contig_6    6       -inf -72.545708     -103.278930 -74.625145   \n",
       "\n",
       "      thetaL  \n",
       "0 -73.287178  \n",
       "1 -72.678970  \n",
       "2 -72.308685  \n",
       "3 -72.861412  \n",
       "4 -73.121071  "
      ]
     },
     "execution_count": 20,
     "metadata": {},
     "output_type": "execute_result"
    }
   ],
   "source": [
    "SS_theta.head()"
   ]
  },
  {
   "cell_type": "code",
   "execution_count": 36,
   "metadata": {},
   "outputs": [
    {
     "data": {
      "text/plain": [
       "0.019512152172408606"
      ]
     },
     "execution_count": 36,
     "metadata": {},
     "output_type": "execute_result"
    }
   ],
   "source": [
    "np.mean(np.exp(SS_theta.Pairwise))"
   ]
  },
  {
   "cell_type": "code",
   "execution_count": 37,
   "metadata": {},
   "outputs": [],
   "source": [
    "josh = pd.read_csv('/working/jahner/desert_bigQ/sam_sai/DB_254_angsd.theta_out',sep='\\t')"
   ]
  },
  {
   "cell_type": "code",
   "execution_count": 40,
   "metadata": {},
   "outputs": [
    {
     "data": {
      "text/plain": [
       "0.0007926749313000031"
      ]
     },
     "execution_count": 40,
     "metadata": {},
     "output_type": "execute_result"
    }
   ],
   "source": [
    "np.mean(np.exp(josh.Pairwise))"
   ]
  },
  {
   "cell_type": "code",
   "execution_count": null,
   "metadata": {},
   "outputs": [],
   "source": []
  }
 ],
 "metadata": {
  "kernelspec": {
   "display_name": "Python 3",
   "language": "python",
   "name": "python3"
  },
  "language_info": {
   "codemirror_mode": {
    "name": "ipython",
    "version": 3
   },
   "file_extension": ".py",
   "mimetype": "text/x-python",
   "name": "python",
   "nbconvert_exporter": "python",
   "pygments_lexer": "ipython3",
   "version": "3.8.10"
  }
 },
 "nbformat": 4,
 "nbformat_minor": 1
}
